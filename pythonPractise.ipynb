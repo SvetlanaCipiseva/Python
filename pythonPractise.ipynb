{
 "cells": [
  {
   "cell_type": "markdown",
   "metadata": {},
   "source": [
    "# **Python Practise**"
   ]
  },
  {
   "cell_type": "markdown",
   "metadata": {},
   "source": [
    "## I.\n",
    "Write a program which will find all such numbers which are divisible by 7 but are not a\n",
    "multiple of 5, between **2000** and **3200** (both included).The numbers obtained should be\n",
    "printed in a **comma-separated sequence on a single line**\n",
    "\n"
   ]
  },
  {
   "cell_type": "code",
   "execution_count": 1,
   "metadata": {},
   "outputs": [],
   "source": [
    "def find_number_divisible_7_not_5_var1(l_border=2000,h_border=3200):\n",
    "    print(','.join(str(i) for i in range(l_border,h_border+1) if i%7==0 and i%5!=0))"
   ]
  },
  {
   "cell_type": "code",
   "execution_count": 2,
   "metadata": {},
   "outputs": [],
   "source": [
    "def find_number_divisible_7_not_5_var2(l_border=2000,h_border=3200):\n",
    "    s=''\n",
    "    for i in range(l_border,h_border+1):\n",
    "        if i%7==0 and i%5!=0:\n",
    "            s=s+','+str(i)\n",
    "    print(s[1:])"
   ]
  },
  {
   "cell_type": "code",
   "execution_count": 3,
   "metadata": {},
   "outputs": [
    {
     "name": "stdout",
     "output_type": "stream",
     "text": [
      "2002,2009,2016,2023,2037,2044,2051,2058,2072,2079,2086,2093,2107,2114,2121,2128,2142,2149,2156,2163,2177,2184,2191,2198,2212,2219,2226,2233,2247,2254,2261,2268,2282,2289,2296,2303,2317,2324,2331,2338,2352,2359,2366,2373,2387,2394,2401,2408,2422,2429,2436,2443,2457,2464,2471,2478,2492,2499,2506,2513,2527,2534,2541,2548,2562,2569,2576,2583,2597,2604,2611,2618,2632,2639,2646,2653,2667,2674,2681,2688,2702,2709,2716,2723,2737,2744,2751,2758,2772,2779,2786,2793,2807,2814,2821,2828,2842,2849,2856,2863,2877,2884,2891,2898,2912,2919,2926,2933,2947,2954,2961,2968,2982,2989,2996,3003,3017,3024,3031,3038,3052,3059,3066,3073,3087,3094,3101,3108,3122,3129,3136,3143,3157,3164,3171,3178,3192,3199\n"
     ]
    }
   ],
   "source": [
    "find_number_divisible_7_not_5_var1()"
   ]
  },
  {
   "cell_type": "code",
   "execution_count": 4,
   "metadata": {},
   "outputs": [
    {
     "name": "stdout",
     "output_type": "stream",
     "text": [
      "2002,2009,2016,2023,2037,2044,2051,2058,2072,2079,2086,2093,2107,2114,2121,2128,2142,2149,2156,2163,2177,2184,2191,2198,2212,2219,2226,2233,2247,2254,2261,2268,2282,2289,2296,2303,2317,2324,2331,2338,2352,2359,2366,2373,2387,2394,2401,2408,2422,2429,2436,2443,2457,2464,2471,2478,2492,2499,2506,2513,2527,2534,2541,2548,2562,2569,2576,2583,2597,2604,2611,2618,2632,2639,2646,2653,2667,2674,2681,2688,2702,2709,2716,2723,2737,2744,2751,2758,2772,2779,2786,2793,2807,2814,2821,2828,2842,2849,2856,2863,2877,2884,2891,2898,2912,2919,2926,2933,2947,2954,2961,2968,2982,2989,2996,3003,3017,3024,3031,3038,3052,3059,3066,3073,3087,3094,3101,3108,3122,3129,3136,3143,3157,3164,3171,3178,3192,3199\n"
     ]
    }
   ],
   "source": [
    "find_number_divisible_7_not_5_var2()"
   ]
  },
  {
   "cell_type": "markdown",
   "metadata": {},
   "source": [
    "# II.\n",
    "Write a program that asks the user how many **Fibonacci numbers** to generate and then generates them. Take this opportunity to think about how you can use functions. Make sure to ask the user to enter the number of numbers in the sequence to generate.(Hint: The Fibonacci sequence is a sequence of numbers where the next number in the sequence is the sum of the previous two numbers in the sequence. The sequence looks like this: 1, 1, 2, 3, 5, 8, 13 …)"
   ]
  },
  {
   "cell_type": "code",
   "execution_count": 5,
   "metadata": {},
   "outputs": [],
   "source": [
    "from functools import lru_cache\n",
    "\n",
    "@lru_cache(maxsize=100)\n",
    "def fibonacci(n):\n",
    "    if n==1:\n",
    "        return 1\n",
    "    elif n==2:\n",
    "        return 1\n",
    "    elif n>2:\n",
    "        return fibonacci(n-1)+fibonacci(n-2)"
   ]
  },
  {
   "cell_type": "code",
   "execution_count": 6,
   "metadata": {},
   "outputs": [],
   "source": [
    "def check_input_is_whole_number(msg='Please, enter a whole number '):\n",
    "    for i in range(101):\n",
    "        n = input(msg).strip()\n",
    "        if n.isdigit()==True:\n",
    "            return n\n",
    "        else: print(n, 'ís not a whole number! \\n')\n",
    "        if i == 5:\n",
    "            print('\\\"Whole numbers\\\" example: 1, 2, 10, 99.\\n')    \n",
    "        if i == 100:\n",
    "            print('Google \\\"whole numbers\\\" and try one more time later')\n",
    "            quit()"
   ]
  },
  {
   "cell_type": "code",
   "execution_count": 7,
   "metadata": {},
   "outputs": [],
   "source": [
    "def print_fibonacci():\n",
    "    n=check_input_is_whole_number('Enter number of numbers in the Fibonacci sequence to be printed ')\n",
    "    print('Fibonacci sequence of '+n+' numbers:', ','.join(str(fibonacci(i)) for i in range(int(n)+1)if i>0))"
   ]
  },
  {
   "cell_type": "code",
   "execution_count": 8,
   "metadata": {},
   "outputs": [
    {
     "name": "stdout",
     "output_type": "stream",
     "text": [
      "Enter number of numbers in the Fibonacci sequence to be printed 8\n",
      "Fibonacci sequence of 8 numbers: 1,1,2,3,5,8,13,21\n"
     ]
    }
   ],
   "source": [
    "print_fibonacci()"
   ]
  },
  {
   "cell_type": "markdown",
   "metadata": {},
   "source": [
    "# III.\n",
    "Write a program (function!) that takes a list and returns a new list that contains all the elements of the first list **minus all the duplicates**."
   ]
  },
  {
   "cell_type": "code",
   "execution_count": 9,
   "metadata": {},
   "outputs": [],
   "source": [
    "def generate_list_without_duplicates_ordered(list1):\n",
    "    return list(dict.fromkeys(list1))"
   ]
  },
  {
   "cell_type": "code",
   "execution_count": 10,
   "metadata": {},
   "outputs": [],
   "source": [
    "def generate_list_without_duplicates_not_ordered(list1):\n",
    "    return list(set(list1))"
   ]
  },
  {
   "cell_type": "code",
   "execution_count": 11,
   "metadata": {},
   "outputs": [
    {
     "name": "stdout",
     "output_type": "stream",
     "text": [
      "[1, 'o', 'r', 'd', 'e', 'red', 2]\n",
      "[1, 2, 'o', 'r', 'd', 'red', 'e']\n"
     ]
    }
   ],
   "source": [
    "list1=[1,'o' ,'r','o','d','d',1,'e','red',2,2]\n",
    "print(generate_list_without_duplicates_ordered(list1))\n",
    "print(generate_list_without_duplicates_not_ordered(list1))"
   ]
  },
  {
   "cell_type": "markdown",
   "metadata": {},
   "source": [
    "# IV\n",
    "Create a program that asks the user for a number and then prints out a **list of all the divisors** of that number. (If you don’t know what a divisor is, it is a number that divides evenly into another number. For example, 13 is a divisor of 26 because 26 / 13 has no remainder.) Input allows only not negative integers."
   ]
  },
  {
   "cell_type": "code",
   "execution_count": 12,
   "metadata": {},
   "outputs": [],
   "source": [
    "def find_divisors():\n",
    "        n=check_input_is_whole_number()\n",
    "        print([i for i in range(1,int(n)+1) if int(n)%i==0])"
   ]
  },
  {
   "cell_type": "code",
   "execution_count": 13,
   "metadata": {},
   "outputs": [
    {
     "name": "stdout",
     "output_type": "stream",
     "text": [
      "Please, enter a whole number 9\n",
      "[1, 3, 9]\n"
     ]
    }
   ],
   "source": [
    "find_divisors()"
   ]
  },
  {
   "cell_type": "markdown",
   "metadata": {},
   "source": [
    "# V.\n",
    "Ask the user for a string and print out whether this string is a **palindrome** or not (A palindrome is a string that reads the same forwards and backwards.)\n",
    "\n"
   ]
  },
  {
   "cell_type": "code",
   "execution_count": 29,
   "metadata": {},
   "outputs": [],
   "source": [
    "def check_palindrome(s):\n",
    "    return print('\\\"'+s+'\\\" string is a palindrome' if s==s[::-1] else '\\\"'+s+'\\\" string is not a palindrome')"
   ]
  },
  {
   "cell_type": "code",
   "execution_count": 32,
   "metadata": {},
   "outputs": [
    {
     "name": "stdout",
     "output_type": "stream",
     "text": [
      "Please, enter a string 12 dfgfd 21\n",
      "\"12 dfgfd 21\" string is a palindrome\n"
     ]
    }
   ],
   "source": [
    "check_palindrome(input('Please, enter a string '))"
   ]
  }
 ],
 "metadata": {
  "kernelspec": {
   "display_name": "Python 3",
   "language": "python",
   "name": "python3"
  },
  "language_info": {
   "codemirror_mode": {
    "name": "ipython",
    "version": 3
   },
   "file_extension": ".py",
   "mimetype": "text/x-python",
   "name": "python",
   "nbconvert_exporter": "python",
   "pygments_lexer": "ipython3",
   "version": "3.7.1"
  }
 },
 "nbformat": 4,
 "nbformat_minor": 2
}
